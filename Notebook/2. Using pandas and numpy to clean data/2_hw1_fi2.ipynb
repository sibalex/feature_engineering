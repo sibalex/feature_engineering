{
  "nbformat": 4,
  "nbformat_minor": 0,
  "metadata": {
    "kernelspec": {
      "display_name": "Python 3",
      "language": "python",
      "name": "python3"
    },
    "language_info": {
      "codemirror_mode": {
        "name": "ipython",
        "version": 3
      },
      "file_extension": ".py",
      "mimetype": "text/x-python",
      "name": "python",
      "nbconvert_exporter": "python",
      "pygments_lexer": "ipython3",
      "version": "3.7.3"
    },
    "colab": {
      "name": "2. hw1_fi.ipynb",
      "provenance": []
    }
  },
  "cells": [
    {
      "cell_type": "code",
      "metadata": {
        "id": "qpIZ0Y0yPrQd",
        "colab_type": "code",
        "colab": {}
      },
      "source": [
        "import pandas as pd\n",
        "import numpy as np\n",
        "import matplotlib.pyplot as plt\n",
        "\n",
        "from sklearn import preprocessing\n",
        "from sklearn.preprocessing import LabelEncoder\n",
        "from sklearn.preprocessing import OneHotEncoder\n",
        "from sklearn.preprocessing import MinMaxScaler\n",
        "from pandas.plotting import scatter_matrix\n",
        "\n",
        "\n",
        "%matplotlib inline"
      ],
      "execution_count": 0,
      "outputs": []
    },
    {
      "cell_type": "code",
      "metadata": {
        "id": "Mi7X86BGPrQf",
        "colab_type": "code",
        "colab": {},
        "outputId": "6588c5b5-f157-44ca-cef1-d9d1b77c1115"
      },
      "source": [
        "df = pd.read_csv('/Users/aleksandr/Desktop/1_лекция-Проблема_качества_данных/housing.csv')\n",
        "df.head()"
      ],
      "execution_count": 0,
      "outputs": [
        {
          "output_type": "execute_result",
          "data": {
            "text/html": [
              "<div>\n",
              "<style scoped>\n",
              "    .dataframe tbody tr th:only-of-type {\n",
              "        vertical-align: middle;\n",
              "    }\n",
              "\n",
              "    .dataframe tbody tr th {\n",
              "        vertical-align: top;\n",
              "    }\n",
              "\n",
              "    .dataframe thead th {\n",
              "        text-align: right;\n",
              "    }\n",
              "</style>\n",
              "<table border=\"1\" class=\"dataframe\">\n",
              "  <thead>\n",
              "    <tr style=\"text-align: right;\">\n",
              "      <th></th>\n",
              "      <th>longitude</th>\n",
              "      <th>latitude</th>\n",
              "      <th>housing_median_age</th>\n",
              "      <th>total_rooms</th>\n",
              "      <th>total_bedrooms</th>\n",
              "      <th>population</th>\n",
              "      <th>households</th>\n",
              "      <th>median_income</th>\n",
              "      <th>median_house_value</th>\n",
              "      <th>ocean_proximity</th>\n",
              "    </tr>\n",
              "  </thead>\n",
              "  <tbody>\n",
              "    <tr>\n",
              "      <th>0</th>\n",
              "      <td>-122.23</td>\n",
              "      <td>37.88</td>\n",
              "      <td>41.0</td>\n",
              "      <td>880.0</td>\n",
              "      <td>129.0</td>\n",
              "      <td>322.0</td>\n",
              "      <td>126.0</td>\n",
              "      <td>8.3252</td>\n",
              "      <td>452600.0</td>\n",
              "      <td>NEAR BAY</td>\n",
              "    </tr>\n",
              "    <tr>\n",
              "      <th>1</th>\n",
              "      <td>-122.22</td>\n",
              "      <td>37.86</td>\n",
              "      <td>21.0</td>\n",
              "      <td>7099.0</td>\n",
              "      <td>1106.0</td>\n",
              "      <td>2401.0</td>\n",
              "      <td>1138.0</td>\n",
              "      <td>8.3014</td>\n",
              "      <td>358500.0</td>\n",
              "      <td>NEAR BAY</td>\n",
              "    </tr>\n",
              "    <tr>\n",
              "      <th>2</th>\n",
              "      <td>-122.24</td>\n",
              "      <td>37.85</td>\n",
              "      <td>52.0</td>\n",
              "      <td>1467.0</td>\n",
              "      <td>190.0</td>\n",
              "      <td>496.0</td>\n",
              "      <td>177.0</td>\n",
              "      <td>7.2574</td>\n",
              "      <td>352100.0</td>\n",
              "      <td>NEAR BAY</td>\n",
              "    </tr>\n",
              "    <tr>\n",
              "      <th>3</th>\n",
              "      <td>-122.25</td>\n",
              "      <td>37.85</td>\n",
              "      <td>52.0</td>\n",
              "      <td>1274.0</td>\n",
              "      <td>235.0</td>\n",
              "      <td>558.0</td>\n",
              "      <td>219.0</td>\n",
              "      <td>5.6431</td>\n",
              "      <td>341300.0</td>\n",
              "      <td>NEAR BAY</td>\n",
              "    </tr>\n",
              "    <tr>\n",
              "      <th>4</th>\n",
              "      <td>-122.25</td>\n",
              "      <td>37.85</td>\n",
              "      <td>52.0</td>\n",
              "      <td>1627.0</td>\n",
              "      <td>280.0</td>\n",
              "      <td>565.0</td>\n",
              "      <td>259.0</td>\n",
              "      <td>3.8462</td>\n",
              "      <td>342200.0</td>\n",
              "      <td>NEAR BAY</td>\n",
              "    </tr>\n",
              "  </tbody>\n",
              "</table>\n",
              "</div>"
            ],
            "text/plain": [
              "   longitude  latitude  housing_median_age  total_rooms  total_bedrooms  \\\n",
              "0    -122.23     37.88                41.0        880.0           129.0   \n",
              "1    -122.22     37.86                21.0       7099.0          1106.0   \n",
              "2    -122.24     37.85                52.0       1467.0           190.0   \n",
              "3    -122.25     37.85                52.0       1274.0           235.0   \n",
              "4    -122.25     37.85                52.0       1627.0           280.0   \n",
              "\n",
              "   population  households  median_income  median_house_value ocean_proximity  \n",
              "0       322.0       126.0         8.3252            452600.0        NEAR BAY  \n",
              "1      2401.0      1138.0         8.3014            358500.0        NEAR BAY  \n",
              "2       496.0       177.0         7.2574            352100.0        NEAR BAY  \n",
              "3       558.0       219.0         5.6431            341300.0        NEAR BAY  \n",
              "4       565.0       259.0         3.8462            342200.0        NEAR BAY  "
            ]
          },
          "metadata": {
            "tags": []
          },
          "execution_count": 2
        }
      ]
    },
    {
      "cell_type": "code",
      "metadata": {
        "id": "FMTVKgUKPrQi",
        "colab_type": "code",
        "colab": {},
        "outputId": "d52eb462-94be-45b3-c2ec-36ca956bbce7"
      },
      "source": [
        "df.columns"
      ],
      "execution_count": 0,
      "outputs": [
        {
          "output_type": "execute_result",
          "data": {
            "text/plain": [
              "Index(['longitude', 'latitude', 'housing_median_age', 'total_rooms',\n",
              "       'total_bedrooms', 'population', 'households', 'median_income',\n",
              "       'median_house_value', 'ocean_proximity'],\n",
              "      dtype='object')"
            ]
          },
          "metadata": {
            "tags": []
          },
          "execution_count": 3
        }
      ]
    },
    {
      "cell_type": "markdown",
      "metadata": {
        "id": "9QpC8_TcPrQl",
        "colab_type": "text"
      },
      "source": [
        "**1. Масштабирование:** \n",
        "- а. Нормализовать признак - median_income\n",
        "- б. Привести признак - population к масштабу от 0 до 100"
      ]
    },
    {
      "cell_type": "code",
      "metadata": {
        "id": "jqN20Yv9PrQl",
        "colab_type": "code",
        "colab": {}
      },
      "source": [
        "# в1\n",
        "\n",
        "# scaler1 = preprocessing.MinMaxScaler()\n",
        "# df['median_income_new'] = scaler1.fit_transform(np.array(df['median_income']).reshape(-1, 1))"
      ],
      "execution_count": 0,
      "outputs": []
    },
    {
      "cell_type": "code",
      "metadata": {
        "id": "DkhMs1AQPrQn",
        "colab_type": "code",
        "colab": {}
      },
      "source": [
        "# в2\n",
        "\n",
        "# from sklearn import preprocessing\n",
        "\n",
        "# min_max_scaler = preprocessing.MinMaxScaler()\n",
        "# data = pd.DataFrame(housing.median_income)\n",
        "# norm = min_max_scaler.fit_transform(data)\n",
        "\n",
        "# normalized = pd.DataFrame(norm, columns = ['median_income_norm'])\n",
        "# normalized.head(10)\n",
        "# housing.median_income = normalized.median_income_norm"
      ],
      "execution_count": 0,
      "outputs": []
    },
    {
      "cell_type": "code",
      "metadata": {
        "id": "8x768BzkPrQp",
        "colab_type": "code",
        "colab": {}
      },
      "source": [
        "# в3!\n",
        "\n",
        "# minmax_scaler = preprocessing.MinMaxScaler()\n",
        "# housing[\"median_income_norm\"] = minmax_scaler.fit_transform(housing[[\"median_income\"]])"
      ],
      "execution_count": 0,
      "outputs": []
    },
    {
      "cell_type": "code",
      "metadata": {
        "id": "yeHou2T1PrQr",
        "colab_type": "code",
        "colab": {}
      },
      "source": [
        "# в4\n",
        "\n",
        "# min_max_scaler = preprocessing.MinMaxScaler()\n",
        "# housing['median_income_norm'] = min_max_scaler.fit_transform(housing[['median_income']])"
      ],
      "execution_count": 0,
      "outputs": []
    },
    {
      "cell_type": "code",
      "metadata": {
        "id": "7YNKu8p-PrQt",
        "colab_type": "code",
        "colab": {},
        "outputId": "147608a4-a817-4733-99ea-d6c11c0f977b"
      },
      "source": [
        "df__x = df.copy()\n",
        "\n",
        "x_array = np.array(df__x['median_income'])\n",
        "normalized_X = preprocessing.normalize([x_array])\n",
        "\n",
        "df__x['median_income_n'] = pd.DataFrame(normalized_X).T\n",
        "df__x.head(3)"
      ],
      "execution_count": 0,
      "outputs": [
        {
          "output_type": "execute_result",
          "data": {
            "text/html": [
              "<div>\n",
              "<style scoped>\n",
              "    .dataframe tbody tr th:only-of-type {\n",
              "        vertical-align: middle;\n",
              "    }\n",
              "\n",
              "    .dataframe tbody tr th {\n",
              "        vertical-align: top;\n",
              "    }\n",
              "\n",
              "    .dataframe thead th {\n",
              "        text-align: right;\n",
              "    }\n",
              "</style>\n",
              "<table border=\"1\" class=\"dataframe\">\n",
              "  <thead>\n",
              "    <tr style=\"text-align: right;\">\n",
              "      <th></th>\n",
              "      <th>longitude</th>\n",
              "      <th>latitude</th>\n",
              "      <th>housing_median_age</th>\n",
              "      <th>total_rooms</th>\n",
              "      <th>total_bedrooms</th>\n",
              "      <th>population</th>\n",
              "      <th>households</th>\n",
              "      <th>median_income</th>\n",
              "      <th>median_house_value</th>\n",
              "      <th>ocean_proximity</th>\n",
              "      <th>median_income_n</th>\n",
              "    </tr>\n",
              "  </thead>\n",
              "  <tbody>\n",
              "    <tr>\n",
              "      <th>0</th>\n",
              "      <td>-122.23</td>\n",
              "      <td>37.88</td>\n",
              "      <td>41.0</td>\n",
              "      <td>880.0</td>\n",
              "      <td>129.0</td>\n",
              "      <td>322.0</td>\n",
              "      <td>126.0</td>\n",
              "      <td>8.3252</td>\n",
              "      <td>452600.0</td>\n",
              "      <td>NEAR BAY</td>\n",
              "      <td>0.013440</td>\n",
              "    </tr>\n",
              "    <tr>\n",
              "      <th>1</th>\n",
              "      <td>-122.22</td>\n",
              "      <td>37.86</td>\n",
              "      <td>21.0</td>\n",
              "      <td>7099.0</td>\n",
              "      <td>1106.0</td>\n",
              "      <td>2401.0</td>\n",
              "      <td>1138.0</td>\n",
              "      <td>8.3014</td>\n",
              "      <td>358500.0</td>\n",
              "      <td>NEAR BAY</td>\n",
              "      <td>0.013401</td>\n",
              "    </tr>\n",
              "    <tr>\n",
              "      <th>2</th>\n",
              "      <td>-122.24</td>\n",
              "      <td>37.85</td>\n",
              "      <td>52.0</td>\n",
              "      <td>1467.0</td>\n",
              "      <td>190.0</td>\n",
              "      <td>496.0</td>\n",
              "      <td>177.0</td>\n",
              "      <td>7.2574</td>\n",
              "      <td>352100.0</td>\n",
              "      <td>NEAR BAY</td>\n",
              "      <td>0.011716</td>\n",
              "    </tr>\n",
              "  </tbody>\n",
              "</table>\n",
              "</div>"
            ],
            "text/plain": [
              "   longitude  latitude  housing_median_age  total_rooms  total_bedrooms  \\\n",
              "0    -122.23     37.88                41.0        880.0           129.0   \n",
              "1    -122.22     37.86                21.0       7099.0          1106.0   \n",
              "2    -122.24     37.85                52.0       1467.0           190.0   \n",
              "\n",
              "   population  households  median_income  median_house_value ocean_proximity  \\\n",
              "0       322.0       126.0         8.3252            452600.0        NEAR BAY   \n",
              "1      2401.0      1138.0         8.3014            358500.0        NEAR BAY   \n",
              "2       496.0       177.0         7.2574            352100.0        NEAR BAY   \n",
              "\n",
              "   median_income_n  \n",
              "0         0.013440  \n",
              "1         0.013401  \n",
              "2         0.011716  "
            ]
          },
          "metadata": {
            "tags": []
          },
          "execution_count": 17
        }
      ]
    },
    {
      "cell_type": "code",
      "metadata": {
        "id": "6l0jKptuPrQv",
        "colab_type": "code",
        "colab": {}
      },
      "source": [
        "# в1\n",
        "\n",
        "# scaler100 = preprocessing.MinMaxScaler(feature_range=(0, 100))\n",
        "# df['population_new'] = scaler100.fit_transform(np.array(df['population']).reshape(-1, 1))"
      ],
      "execution_count": 0,
      "outputs": []
    },
    {
      "cell_type": "code",
      "metadata": {
        "id": "N3BTCwRZPrQy",
        "colab_type": "code",
        "colab": {}
      },
      "source": [
        "# в2 \n",
        "\n",
        "# housing['population_scaled'] = min_max_scaler.fit_transform(housing[['median_income']]) * 100\n",
        "# housing[['median_income_norm', 'population_scaled']].describe()"
      ],
      "execution_count": 0,
      "outputs": []
    },
    {
      "cell_type": "code",
      "metadata": {
        "id": "DtWBJ2ZfPrQ0",
        "colab_type": "code",
        "colab": {}
      },
      "source": [
        "# в3!\n",
        "\n",
        "# minmax_scaler2 = preprocessing.MinMaxScaler(feature_range=(0, 100))\n",
        "## minmax_scaler2 = preprocessing.MinMaxScaler(feature_range=[0, 100])\n",
        "# housing[\"population_scaled\"] = minmax_scaler2.fit_transform(housing[[\"population\"]])"
      ],
      "execution_count": 0,
      "outputs": []
    },
    {
      "cell_type": "code",
      "metadata": {
        "id": "NJWUA0NbPrQ1",
        "colab_type": "code",
        "colab": {}
      },
      "source": [
        "# в4\n",
        "\n",
        "# min_max_scaler = preprocessing.MinMaxScaler(feature_range=(0,100))\n",
        "# data = pd.DataFrame(housing.population)\n",
        "# norm = min_max_scaler.fit_transform(data)\n",
        "\n",
        "# normalized = pd.DataFrame(norm, columns = ['population_norm'])\n",
        "# normalized.population_norm.hist(bins=100)\n",
        "# housing.population = normalized.population_norm"
      ],
      "execution_count": 0,
      "outputs": []
    },
    {
      "cell_type": "code",
      "metadata": {
        "id": "PDfXBLi3PrQ3",
        "colab_type": "code",
        "colab": {},
        "outputId": "30ce0b00-02dc-43c2-d87f-af3a6af52dd5"
      },
      "source": [
        "from sklearn.preprocessing import MinMaxScaler\n",
        "\n",
        "df__y = df.copy()\n",
        "\n",
        "scaler = MinMaxScaler()\n",
        "df__y['population_m'] = np.round(scaler.fit_transform(df__y['population'].values.reshape(-1,1)) * 100, 2)\n",
        "df__y.head(3)"
      ],
      "execution_count": 0,
      "outputs": [
        {
          "output_type": "execute_result",
          "data": {
            "text/html": [
              "<div>\n",
              "<style scoped>\n",
              "    .dataframe tbody tr th:only-of-type {\n",
              "        vertical-align: middle;\n",
              "    }\n",
              "\n",
              "    .dataframe tbody tr th {\n",
              "        vertical-align: top;\n",
              "    }\n",
              "\n",
              "    .dataframe thead th {\n",
              "        text-align: right;\n",
              "    }\n",
              "</style>\n",
              "<table border=\"1\" class=\"dataframe\">\n",
              "  <thead>\n",
              "    <tr style=\"text-align: right;\">\n",
              "      <th></th>\n",
              "      <th>longitude</th>\n",
              "      <th>latitude</th>\n",
              "      <th>housing_median_age</th>\n",
              "      <th>total_rooms</th>\n",
              "      <th>total_bedrooms</th>\n",
              "      <th>population</th>\n",
              "      <th>households</th>\n",
              "      <th>median_income</th>\n",
              "      <th>median_house_value</th>\n",
              "      <th>ocean_proximity</th>\n",
              "      <th>population_m</th>\n",
              "    </tr>\n",
              "  </thead>\n",
              "  <tbody>\n",
              "    <tr>\n",
              "      <th>0</th>\n",
              "      <td>-122.23</td>\n",
              "      <td>37.88</td>\n",
              "      <td>41.0</td>\n",
              "      <td>880.0</td>\n",
              "      <td>129.0</td>\n",
              "      <td>322.0</td>\n",
              "      <td>126.0</td>\n",
              "      <td>8.3252</td>\n",
              "      <td>452600.0</td>\n",
              "      <td>NEAR BAY</td>\n",
              "      <td>0.89</td>\n",
              "    </tr>\n",
              "    <tr>\n",
              "      <th>1</th>\n",
              "      <td>-122.22</td>\n",
              "      <td>37.86</td>\n",
              "      <td>21.0</td>\n",
              "      <td>7099.0</td>\n",
              "      <td>1106.0</td>\n",
              "      <td>2401.0</td>\n",
              "      <td>1138.0</td>\n",
              "      <td>8.3014</td>\n",
              "      <td>358500.0</td>\n",
              "      <td>NEAR BAY</td>\n",
              "      <td>6.72</td>\n",
              "    </tr>\n",
              "    <tr>\n",
              "      <th>2</th>\n",
              "      <td>-122.24</td>\n",
              "      <td>37.85</td>\n",
              "      <td>52.0</td>\n",
              "      <td>1467.0</td>\n",
              "      <td>190.0</td>\n",
              "      <td>496.0</td>\n",
              "      <td>177.0</td>\n",
              "      <td>7.2574</td>\n",
              "      <td>352100.0</td>\n",
              "      <td>NEAR BAY</td>\n",
              "      <td>1.38</td>\n",
              "    </tr>\n",
              "  </tbody>\n",
              "</table>\n",
              "</div>"
            ],
            "text/plain": [
              "   longitude  latitude  housing_median_age  total_rooms  total_bedrooms  \\\n",
              "0    -122.23     37.88                41.0        880.0           129.0   \n",
              "1    -122.22     37.86                21.0       7099.0          1106.0   \n",
              "2    -122.24     37.85                52.0       1467.0           190.0   \n",
              "\n",
              "   population  households  median_income  median_house_value ocean_proximity  \\\n",
              "0       322.0       126.0         8.3252            452600.0        NEAR BAY   \n",
              "1      2401.0      1138.0         8.3014            358500.0        NEAR BAY   \n",
              "2       496.0       177.0         7.2574            352100.0        NEAR BAY   \n",
              "\n",
              "   population_m  \n",
              "0          0.89  \n",
              "1          6.72  \n",
              "2          1.38  "
            ]
          },
          "metadata": {
            "tags": []
          },
          "execution_count": 105
        }
      ]
    },
    {
      "cell_type": "code",
      "metadata": {
        "id": "sUPAcrUWPrQ5",
        "colab_type": "code",
        "colab": {},
        "outputId": "967840dc-c9b7-4b57-ae2e-88579a65e087"
      },
      "source": [
        "df__y.population_m.describe()"
      ],
      "execution_count": 0,
      "outputs": [
        {
          "output_type": "execute_result",
          "data": {
            "text/plain": [
              "count    20640.000000\n",
              "mean         3.986868\n",
              "std          3.174039\n",
              "min          0.000000\n",
              "25%          2.200000\n",
              "50%          3.260000\n",
              "75%          4.830000\n",
              "max        100.000000\n",
              "Name: population_m, dtype: float64"
            ]
          },
          "metadata": {
            "tags": []
          },
          "execution_count": 110
        }
      ]
    },
    {
      "cell_type": "markdown",
      "metadata": {
        "id": "-t5S2-xmPrQ7",
        "colab_type": "text"
      },
      "source": [
        "**2. Заполнение пропусков:** \n",
        "- а. Заполнить пропуски в столбце total_bedrooms средними значениями по категориям столбца ocean_proximity \n",
        "\n",
        "Например, если пропущенно значение в строке с категорией INLAND, нужно заполнить его средним значением по этой категории"
      ]
    },
    {
      "cell_type": "code",
      "metadata": {
        "id": "xLHD_nqbPrQ7",
        "colab_type": "code",
        "colab": {}
      },
      "source": [
        "# в1\n",
        "\n",
        "# ocean_mean = housing[['ocean_proximity', 'total_bedrooms']].groupby('ocean_proximity').mean().reset_index()\n",
        "# ocean_mean\n",
        "\n",
        "# import math\n",
        "# def nanf(x):\n",
        "#     if math.isnan(x['total_bedrooms']):\n",
        "#         print(ocean_mean[ocean_mean[\"ocean_proximity\"] == x['ocean_proximity']][\"total_bedrooms\"].tolist()[0])\n",
        "#         return ocean_mean[ocean_mean[\"ocean_proximity\"] == x['ocean_proximity']][\"total_bedrooms\"].tolist()[0]\n",
        "#     else:\n",
        "#         return x['total_bedrooms']\n",
        "        \n",
        "        \n",
        "\n",
        "# housing['total_bedrooms'] = housing.apply(nanf, axis = 1)\n",
        "# housing.total_bedrooms.value_counts(dropna=False)"
      ],
      "execution_count": 0,
      "outputs": []
    },
    {
      "cell_type": "code",
      "metadata": {
        "id": "KEAwxFc1PrQ-",
        "colab_type": "code",
        "colab": {}
      },
      "source": [
        "# в2!\n",
        "\n",
        "# housing['total_bedrooms'] = housing.groupby('ocean_proximity')['total_bedrooms'].transform(\n",
        "#     lambda x: x.fillna(x.mean()))\n",
        "\n",
        "# housing['total_bedrooms'].isna().sum()"
      ],
      "execution_count": 0,
      "outputs": []
    },
    {
      "cell_type": "code",
      "metadata": {
        "id": "wPi8OIUAPrQ_",
        "colab_type": "code",
        "colab": {}
      },
      "source": [
        "# в3\n",
        "\n",
        "# housing_new = housing['total_bedrooms'].fillna(housing.groupby(['ocean_proximity']).mean()['total_bedrooms'])\n",
        "# housing_new.iloc[:10]"
      ],
      "execution_count": 0,
      "outputs": []
    },
    {
      "cell_type": "code",
      "metadata": {
        "id": "NkD53iXzPrRB",
        "colab_type": "code",
        "colab": {}
      },
      "source": [
        "# subs = df.groupby('ocean_proximity').mean()['total_bedrooms']\n",
        "# df['total_bedrooms_new'] = df.apply(\n",
        "#     lambda row: subs[row['ocean_proximity']] if row.isna()['total_bedrooms'] else row['total_bedrooms'], axis=1)"
      ],
      "execution_count": 0,
      "outputs": []
    },
    {
      "cell_type": "code",
      "metadata": {
        "id": "mGYKFa9gPrRD",
        "colab_type": "code",
        "colab": {}
      },
      "source": [
        "df__z = df.copy()\n",
        "\n",
        "df_1 = df__z[df__z['ocean_proximity']=='NEAR BAY'].total_bedrooms.mean()\n",
        "df_2 = df__z[df__z['ocean_proximity']=='NEAR OCEAN'].total_bedrooms.mean()\n",
        "df_3 = df__z[df__z['ocean_proximity']=='ISLAND'].total_bedrooms.mean()\n",
        "df_4 = df__z[df__z['ocean_proximity']=='INLAND'].total_bedrooms.mean()\n",
        "df_5 = df__z[df__z['ocean_proximity']=='<1H OCEAN'].total_bedrooms.mean()"
      ],
      "execution_count": 0,
      "outputs": []
    },
    {
      "cell_type": "code",
      "metadata": {
        "id": "AhurG1spPrRH",
        "colab_type": "code",
        "colab": {}
      },
      "source": [
        "# df['total_bedrooms'] = df['total_bedrooms']fillna(value = df['total_bedrooms'].mean())\n",
        "# df['total_bedrooms'] = df['total_bedrooms']fillna(value = -1)\n",
        "\n",
        "df__z = df__z.replace(\n",
        "    {\n",
        "        'total_bedrooms': np.NaN\n",
        "    },\n",
        "    {\n",
        "        'total_bedrooms': -1\n",
        "    }\n",
        ")"
      ],
      "execution_count": 0,
      "outputs": []
    },
    {
      "cell_type": "code",
      "metadata": {
        "id": "WsS-ulVePrRK",
        "colab_type": "code",
        "colab": {}
      },
      "source": [
        "df__z['total_bedrooms'] = df__z.apply(lambda x: round(df_1, 0) if (x['ocean_proximity']=='NEAR BAY') & (x['total_bedrooms']==-1) \n",
        "                                 else (round(df_2, 0) if (x['ocean_proximity']=='NEAR OCEAN') & (x['total_bedrooms']==-1) \n",
        "                                       else(round(df_3, 0) if (x['ocean_proximity']=='ISLAND') & (x['total_bedrooms']==-1) \n",
        "                                            else(round(df_4, 0) if (x['ocean_proximity']=='INLAND') & (x['total_bedrooms']==-1) \n",
        "                                                 else(round(df_5, 0) if (x['ocean_proximity']=='<1H OCEAN') & (x['total_bedrooms']==-1) \n",
        "                                                      else x['total_bedrooms'])))), axis=1)"
      ],
      "execution_count": 0,
      "outputs": []
    },
    {
      "cell_type": "code",
      "metadata": {
        "id": "elCrx6DwPrRM",
        "colab_type": "code",
        "colab": {},
        "outputId": "a003d9c8-2fd3-4733-cc97-23138cae9871"
      },
      "source": [
        "print('Среднее \"NEAR BAY\":', round(df_1, 0))\n",
        "print('Среднее \"NEAR OCEAN\":', round(df_2, 0))\n",
        "print('Среднее \"ISLAND\":', round(df_3, 0))\n",
        "print('Среднее \"INLAND\":', round(df_4, 0))\n",
        "print('Среднее \"<1H OCEAN\":', round(df_5, 0))\n",
        "\n",
        "print('\\n{0}\\n\\nИтого выбросов в данных: {1}'.format(df__z.isnull().sum(), df__z.isnull().sum().sum()))"
      ],
      "execution_count": 0,
      "outputs": [
        {
          "output_type": "stream",
          "text": [
            "Среднее \"NEAR BAY\": 514.0\n",
            "Среднее \"NEAR OCEAN\": 539.0\n",
            "Среднее \"ISLAND\": 420.0\n",
            "Среднее \"INLAND\": 534.0\n",
            "Среднее \"<1H OCEAN\": 547.0\n",
            "\n",
            "longitude             0\n",
            "latitude              0\n",
            "housing_median_age    0\n",
            "total_rooms           0\n",
            "total_bedrooms        0\n",
            "population            0\n",
            "households            0\n",
            "median_income         0\n",
            "median_house_value    0\n",
            "ocean_proximity       0\n",
            "dtype: int64\n",
            "\n",
            "Итого выбросов в данных: 0\n"
          ],
          "name": "stdout"
        }
      ]
    },
    {
      "cell_type": "code",
      "metadata": {
        "id": "wZdu9pMpPrRO",
        "colab_type": "code",
        "colab": {}
      },
      "source": [
        "# display(df__z.loc[(df__z['ocean_proximity'] == 'NEAR BAY') & (df__z['total_bedrooms'] == 514)].head(2))\n",
        "# display(df__z.loc[(df__z['ocean_proximity'] == 'NEAR OCEAN') & (df__z['total_bedrooms'] == 539)].head(2))\n",
        "# display(df__z.loc[(df__z['ocean_proximity'] == 'ISLAND') & (df__z['total_bedrooms'] == 420)].head(2)) #не было пустых ячеек\n",
        "# display(df__z.loc[(df__z['ocean_proximity'] == 'INLAND') & (df__z['total_bedrooms'] == 534)].head(2))\n",
        "# display(df__z.loc[(df__z['ocean_proximity'] == '<1H OCEAN') & (df__z['total_bedrooms'] == 547)].head(2))\n",
        "# display(df__z.loc[(df__z['total_bedrooms'] == -1)].head())"
      ],
      "execution_count": 0,
      "outputs": []
    },
    {
      "cell_type": "markdown",
      "metadata": {
        "id": "M_ROkvmaPrRQ",
        "colab_type": "text"
      },
      "source": [
        "**3. Категорийные атрибуты:**\n",
        "- а. Посчитать среднее кол-во комнат в строке (total_rooms/households) \n",
        "- б. Разбить полученный столбец на группы на ваше усмотрение \n",
        "\n",
        "Например, 1 комната, 2 комнаты, 3 и более комнат"
      ]
    },
    {
      "cell_type": "code",
      "metadata": {
        "id": "EDtwOS_bPrRR",
        "colab_type": "code",
        "colab": {}
      },
      "source": [
        "# в1\n",
        "\n",
        "# df['rooms_avg'] = df.apply(lambda row: round(row['total_rooms']/row['households']), axis=1)\n",
        "# df['rooms_cat'] = df['rooms_avg'].apply(lambda x: '{} комнат(а/ы)'.format(x) if (x in [1, 2]) else '3 и более')\n",
        "\n",
        "# #df[df['rooms_avg'] == 1]\n",
        "# df[df['rooms_avg'] == 3].sample(10)"
      ],
      "execution_count": 0,
      "outputs": []
    },
    {
      "cell_type": "code",
      "metadata": {
        "id": "nuFMZFfKPrRS",
        "colab_type": "code",
        "colab": {}
      },
      "source": [
        "# в2!\n",
        "\n",
        "# housing['total_bedrooms_avg'] = round(housing['total_rooms']/housing['households'])\n",
        "# housing['total_bedrooms_avg'].iloc[:10]\n",
        "\n",
        "# housing[\"avg_rooms_bin\"] = housing[\"total_bedrooms_avg\"].apply(lambda x: '1 комната' if x < 2 else '2 комнаты' if x == 2 else '3 комнаты' if x == 3 else '3 и более комнат')\n",
        "# housing[\"avg_rooms_bin\"]"
      ],
      "execution_count": 0,
      "outputs": []
    },
    {
      "cell_type": "code",
      "metadata": {
        "id": "tSXxEZztPrRU",
        "colab_type": "code",
        "colab": {}
      },
      "source": [
        "# в3\n",
        "\n",
        "# housing['total_rooms/households'] = (housing.total_rooms/housing.households).round(0)\n",
        "\n",
        "# def categorize_rooms(n_rooms):\n",
        "#     if n_rooms <= 1:\n",
        "#         return '1 room'\n",
        "#     elif n_rooms <= 2:\n",
        "#         return '2 rooms'\n",
        "#     elif n_rooms <= 3:\n",
        "#         return '3 rooms'\n",
        "#     else:\n",
        "#         return 'many rooms'\n",
        "    \n",
        "\n",
        "# housing['total_rooms/households'] = housing['total_rooms/households'].map(categorize_rooms)\n",
        "# housing['total_rooms/households'].value_counts()"
      ],
      "execution_count": 0,
      "outputs": []
    },
    {
      "cell_type": "code",
      "metadata": {
        "id": "0ygJrXyNPrRV",
        "colab_type": "code",
        "colab": {}
      },
      "source": [
        "# в4\n",
        "\n",
        "# housing['mean_rooms'] = housing['total_rooms'] / housing['households']\n",
        "# housing.head()\n",
        "\n",
        "# import numpy as np\n",
        "\n",
        "# def category(x):\n",
        "#     return str(int(np.ceil(x))) + \" room(s)\"\n",
        "\n",
        "\n",
        "# housing['mean_rooms'] = housing['mean_rooms'].apply(category)\n",
        "# housing"
      ],
      "execution_count": 0,
      "outputs": []
    },
    {
      "cell_type": "code",
      "metadata": {
        "id": "E2JvlSjoPrRX",
        "colab_type": "code",
        "colab": {}
      },
      "source": [
        "df__r = df.copy()"
      ],
      "execution_count": 0,
      "outputs": []
    },
    {
      "cell_type": "code",
      "metadata": {
        "id": "L3nMV3jyPrRY",
        "colab_type": "code",
        "colab": {}
      },
      "source": [
        "df__r['rooms_per_household'] = round(df__r['total_rooms']/df__r['households'], 0)"
      ],
      "execution_count": 0,
      "outputs": []
    },
    {
      "cell_type": "code",
      "metadata": {
        "id": "BjadBVjbPrRZ",
        "colab_type": "code",
        "colab": {},
        "outputId": "d93c110c-070e-4d5d-ffb9-c620b9a89f4a"
      },
      "source": [
        "df__r.head(3)"
      ],
      "execution_count": 0,
      "outputs": [
        {
          "output_type": "execute_result",
          "data": {
            "text/html": [
              "<div>\n",
              "<style scoped>\n",
              "    .dataframe tbody tr th:only-of-type {\n",
              "        vertical-align: middle;\n",
              "    }\n",
              "\n",
              "    .dataframe tbody tr th {\n",
              "        vertical-align: top;\n",
              "    }\n",
              "\n",
              "    .dataframe thead th {\n",
              "        text-align: right;\n",
              "    }\n",
              "</style>\n",
              "<table border=\"1\" class=\"dataframe\">\n",
              "  <thead>\n",
              "    <tr style=\"text-align: right;\">\n",
              "      <th></th>\n",
              "      <th>longitude</th>\n",
              "      <th>latitude</th>\n",
              "      <th>housing_median_age</th>\n",
              "      <th>total_rooms</th>\n",
              "      <th>total_bedrooms</th>\n",
              "      <th>population</th>\n",
              "      <th>households</th>\n",
              "      <th>median_income</th>\n",
              "      <th>median_house_value</th>\n",
              "      <th>ocean_proximity</th>\n",
              "      <th>rooms_per_household</th>\n",
              "    </tr>\n",
              "  </thead>\n",
              "  <tbody>\n",
              "    <tr>\n",
              "      <th>0</th>\n",
              "      <td>-122.23</td>\n",
              "      <td>37.88</td>\n",
              "      <td>41.0</td>\n",
              "      <td>880.0</td>\n",
              "      <td>129.0</td>\n",
              "      <td>322.0</td>\n",
              "      <td>126.0</td>\n",
              "      <td>8.3252</td>\n",
              "      <td>452600.0</td>\n",
              "      <td>NEAR BAY</td>\n",
              "      <td>7.0</td>\n",
              "    </tr>\n",
              "    <tr>\n",
              "      <th>1</th>\n",
              "      <td>-122.22</td>\n",
              "      <td>37.86</td>\n",
              "      <td>21.0</td>\n",
              "      <td>7099.0</td>\n",
              "      <td>1106.0</td>\n",
              "      <td>2401.0</td>\n",
              "      <td>1138.0</td>\n",
              "      <td>8.3014</td>\n",
              "      <td>358500.0</td>\n",
              "      <td>NEAR BAY</td>\n",
              "      <td>6.0</td>\n",
              "    </tr>\n",
              "    <tr>\n",
              "      <th>2</th>\n",
              "      <td>-122.24</td>\n",
              "      <td>37.85</td>\n",
              "      <td>52.0</td>\n",
              "      <td>1467.0</td>\n",
              "      <td>190.0</td>\n",
              "      <td>496.0</td>\n",
              "      <td>177.0</td>\n",
              "      <td>7.2574</td>\n",
              "      <td>352100.0</td>\n",
              "      <td>NEAR BAY</td>\n",
              "      <td>8.0</td>\n",
              "    </tr>\n",
              "  </tbody>\n",
              "</table>\n",
              "</div>"
            ],
            "text/plain": [
              "   longitude  latitude  housing_median_age  total_rooms  total_bedrooms  \\\n",
              "0    -122.23     37.88                41.0        880.0           129.0   \n",
              "1    -122.22     37.86                21.0       7099.0          1106.0   \n",
              "2    -122.24     37.85                52.0       1467.0           190.0   \n",
              "\n",
              "   population  households  median_income  median_house_value ocean_proximity  \\\n",
              "0       322.0       126.0         8.3252            452600.0        NEAR BAY   \n",
              "1      2401.0      1138.0         8.3014            358500.0        NEAR BAY   \n",
              "2       496.0       177.0         7.2574            352100.0        NEAR BAY   \n",
              "\n",
              "   rooms_per_household  \n",
              "0                  7.0  \n",
              "1                  6.0  \n",
              "2                  8.0  "
            ]
          },
          "metadata": {
            "tags": []
          },
          "execution_count": 68
        }
      ]
    },
    {
      "cell_type": "code",
      "metadata": {
        "id": "Bs2_PveCPrRb",
        "colab_type": "code",
        "colab": {},
        "outputId": "f039f6cf-8dc8-4275-a742-bd57912ced60"
      },
      "source": [
        "print('Min \"rooms_per_household\":', df__r.rooms_per_household.min())\n",
        "print('Max \"rooms_per_household\":', df__r.rooms_per_household.max())"
      ],
      "execution_count": 0,
      "outputs": [
        {
          "output_type": "stream",
          "text": [
            "Min \"rooms_per_household\": 1.0\n",
            "Max \"rooms_per_household\": 142.0\n"
          ],
          "name": "stdout"
        }
      ]
    },
    {
      "cell_type": "code",
      "metadata": {
        "id": "ZBB8R72MPrRd",
        "colab_type": "code",
        "colab": {}
      },
      "source": [
        "df__r['rooms_per_household_1'] = df__r.apply(lambda x: 1 if x['rooms_per_household']==1 else 0, axis =1)\n",
        "df__r['rooms_per_household_2'] = df__r.apply(lambda x: 1 if x['rooms_per_household']==2 else 0, axis =1)\n",
        "df__r['rooms_per_household_3'] = df__r.apply(lambda x: 1 if x['rooms_per_household']==3 else 0, axis =1)\n",
        "df__r['rooms_per_household_4+'] = df__r.apply(lambda x: 1 if x['rooms_per_household']>=4 else 0, axis =1)"
      ],
      "execution_count": 0,
      "outputs": []
    },
    {
      "cell_type": "code",
      "metadata": {
        "id": "yWpVeOorPrRf",
        "colab_type": "code",
        "colab": {},
        "outputId": "701949c6-0288-47e8-8a50-4eacc404d8d0"
      },
      "source": [
        "display(df__r.loc[(df__r['rooms_per_household_1'] == 1)].head(2))\n",
        "display(df__r.loc[(df__r['rooms_per_household_2'] == 1)].head(2))\n",
        "display(df__r.loc[(df__r['rooms_per_household_3'] == 1)].head(2))\n",
        "display(df__r.loc[(df__r['rooms_per_household_4+'] == 1)].head(2))"
      ],
      "execution_count": 0,
      "outputs": [
        {
          "output_type": "display_data",
          "data": {
            "text/html": [
              "<div>\n",
              "<style scoped>\n",
              "    .dataframe tbody tr th:only-of-type {\n",
              "        vertical-align: middle;\n",
              "    }\n",
              "\n",
              "    .dataframe tbody tr th {\n",
              "        vertical-align: top;\n",
              "    }\n",
              "\n",
              "    .dataframe thead th {\n",
              "        text-align: right;\n",
              "    }\n",
              "</style>\n",
              "<table border=\"1\" class=\"dataframe\">\n",
              "  <thead>\n",
              "    <tr style=\"text-align: right;\">\n",
              "      <th></th>\n",
              "      <th>longitude</th>\n",
              "      <th>latitude</th>\n",
              "      <th>housing_median_age</th>\n",
              "      <th>total_rooms</th>\n",
              "      <th>total_bedrooms</th>\n",
              "      <th>population</th>\n",
              "      <th>households</th>\n",
              "      <th>median_income</th>\n",
              "      <th>median_house_value</th>\n",
              "      <th>ocean_proximity</th>\n",
              "      <th>rooms_per_household</th>\n",
              "      <th>rooms_per_household_1</th>\n",
              "      <th>rooms_per_household_2</th>\n",
              "      <th>rooms_per_household_3</th>\n",
              "      <th>rooms_per_household_4+</th>\n",
              "    </tr>\n",
              "  </thead>\n",
              "  <tbody>\n",
              "    <tr>\n",
              "      <th>3126</th>\n",
              "      <td>-117.79</td>\n",
              "      <td>35.21</td>\n",
              "      <td>4.0</td>\n",
              "      <td>2.0</td>\n",
              "      <td>2.0</td>\n",
              "      <td>6.0</td>\n",
              "      <td>2.0</td>\n",
              "      <td>2.3750</td>\n",
              "      <td>137500.0</td>\n",
              "      <td>INLAND</td>\n",
              "      <td>1.0</td>\n",
              "      <td>1</td>\n",
              "      <td>0</td>\n",
              "      <td>0</td>\n",
              "      <td>0</td>\n",
              "    </tr>\n",
              "    <tr>\n",
              "      <th>4550</th>\n",
              "      <td>-118.23</td>\n",
              "      <td>34.05</td>\n",
              "      <td>52.0</td>\n",
              "      <td>346.0</td>\n",
              "      <td>270.0</td>\n",
              "      <td>346.0</td>\n",
              "      <td>251.0</td>\n",
              "      <td>2.5313</td>\n",
              "      <td>225000.0</td>\n",
              "      <td>&lt;1H OCEAN</td>\n",
              "      <td>1.0</td>\n",
              "      <td>1</td>\n",
              "      <td>0</td>\n",
              "      <td>0</td>\n",
              "      <td>0</td>\n",
              "    </tr>\n",
              "  </tbody>\n",
              "</table>\n",
              "</div>"
            ],
            "text/plain": [
              "      longitude  latitude  housing_median_age  total_rooms  total_bedrooms  \\\n",
              "3126    -117.79     35.21                 4.0          2.0             2.0   \n",
              "4550    -118.23     34.05                52.0        346.0           270.0   \n",
              "\n",
              "      population  households  median_income  median_house_value  \\\n",
              "3126         6.0         2.0         2.3750            137500.0   \n",
              "4550       346.0       251.0         2.5313            225000.0   \n",
              "\n",
              "     ocean_proximity  rooms_per_household  rooms_per_household_1  \\\n",
              "3126          INLAND                  1.0                      1   \n",
              "4550       <1H OCEAN                  1.0                      1   \n",
              "\n",
              "      rooms_per_household_2  rooms_per_household_3  rooms_per_household_4+  \n",
              "3126                      0                      0                       0  \n",
              "4550                      0                      0                       0  "
            ]
          },
          "metadata": {
            "tags": []
          }
        },
        {
          "output_type": "display_data",
          "data": {
            "text/html": [
              "<div>\n",
              "<style scoped>\n",
              "    .dataframe tbody tr th:only-of-type {\n",
              "        vertical-align: middle;\n",
              "    }\n",
              "\n",
              "    .dataframe tbody tr th {\n",
              "        vertical-align: top;\n",
              "    }\n",
              "\n",
              "    .dataframe thead th {\n",
              "        text-align: right;\n",
              "    }\n",
              "</style>\n",
              "<table border=\"1\" class=\"dataframe\">\n",
              "  <thead>\n",
              "    <tr style=\"text-align: right;\">\n",
              "      <th></th>\n",
              "      <th>longitude</th>\n",
              "      <th>latitude</th>\n",
              "      <th>housing_median_age</th>\n",
              "      <th>total_rooms</th>\n",
              "      <th>total_bedrooms</th>\n",
              "      <th>population</th>\n",
              "      <th>households</th>\n",
              "      <th>median_income</th>\n",
              "      <th>median_house_value</th>\n",
              "      <th>ocean_proximity</th>\n",
              "      <th>rooms_per_household</th>\n",
              "      <th>rooms_per_household_1</th>\n",
              "      <th>rooms_per_household_2</th>\n",
              "      <th>rooms_per_household_3</th>\n",
              "      <th>rooms_per_household_4+</th>\n",
              "    </tr>\n",
              "  </thead>\n",
              "  <tbody>\n",
              "    <tr>\n",
              "      <th>50</th>\n",
              "      <td>-122.27</td>\n",
              "      <td>37.82</td>\n",
              "      <td>21.0</td>\n",
              "      <td>896.0</td>\n",
              "      <td>453.0</td>\n",
              "      <td>735.0</td>\n",
              "      <td>438.0</td>\n",
              "      <td>0.9218</td>\n",
              "      <td>171900.0</td>\n",
              "      <td>NEAR BAY</td>\n",
              "      <td>2.0</td>\n",
              "      <td>0</td>\n",
              "      <td>1</td>\n",
              "      <td>0</td>\n",
              "      <td>0</td>\n",
              "    </tr>\n",
              "    <tr>\n",
              "      <th>73</th>\n",
              "      <td>-122.29</td>\n",
              "      <td>37.81</td>\n",
              "      <td>46.0</td>\n",
              "      <td>12.0</td>\n",
              "      <td>4.0</td>\n",
              "      <td>18.0</td>\n",
              "      <td>7.0</td>\n",
              "      <td>0.4999</td>\n",
              "      <td>67500.0</td>\n",
              "      <td>NEAR BAY</td>\n",
              "      <td>2.0</td>\n",
              "      <td>0</td>\n",
              "      <td>1</td>\n",
              "      <td>0</td>\n",
              "      <td>0</td>\n",
              "    </tr>\n",
              "  </tbody>\n",
              "</table>\n",
              "</div>"
            ],
            "text/plain": [
              "    longitude  latitude  housing_median_age  total_rooms  total_bedrooms  \\\n",
              "50    -122.27     37.82                21.0        896.0           453.0   \n",
              "73    -122.29     37.81                46.0         12.0             4.0   \n",
              "\n",
              "    population  households  median_income  median_house_value ocean_proximity  \\\n",
              "50       735.0       438.0         0.9218            171900.0        NEAR BAY   \n",
              "73        18.0         7.0         0.4999             67500.0        NEAR BAY   \n",
              "\n",
              "    rooms_per_household  rooms_per_household_1  rooms_per_household_2  \\\n",
              "50                  2.0                      0                      1   \n",
              "73                  2.0                      0                      1   \n",
              "\n",
              "    rooms_per_household_3  rooms_per_household_4+  \n",
              "50                      0                       0  \n",
              "73                      0                       0  "
            ]
          },
          "metadata": {
            "tags": []
          }
        },
        {
          "output_type": "display_data",
          "data": {
            "text/html": [
              "<div>\n",
              "<style scoped>\n",
              "    .dataframe tbody tr th:only-of-type {\n",
              "        vertical-align: middle;\n",
              "    }\n",
              "\n",
              "    .dataframe tbody tr th {\n",
              "        vertical-align: top;\n",
              "    }\n",
              "\n",
              "    .dataframe thead th {\n",
              "        text-align: right;\n",
              "    }\n",
              "</style>\n",
              "<table border=\"1\" class=\"dataframe\">\n",
              "  <thead>\n",
              "    <tr style=\"text-align: right;\">\n",
              "      <th></th>\n",
              "      <th>longitude</th>\n",
              "      <th>latitude</th>\n",
              "      <th>housing_median_age</th>\n",
              "      <th>total_rooms</th>\n",
              "      <th>total_bedrooms</th>\n",
              "      <th>population</th>\n",
              "      <th>households</th>\n",
              "      <th>median_income</th>\n",
              "      <th>median_house_value</th>\n",
              "      <th>ocean_proximity</th>\n",
              "      <th>rooms_per_household</th>\n",
              "      <th>rooms_per_household_1</th>\n",
              "      <th>rooms_per_household_2</th>\n",
              "      <th>rooms_per_household_3</th>\n",
              "      <th>rooms_per_household_4+</th>\n",
              "    </tr>\n",
              "  </thead>\n",
              "  <tbody>\n",
              "    <tr>\n",
              "      <th>39</th>\n",
              "      <td>-122.26</td>\n",
              "      <td>37.83</td>\n",
              "      <td>52.0</td>\n",
              "      <td>2432.0</td>\n",
              "      <td>715.0</td>\n",
              "      <td>1377.0</td>\n",
              "      <td>696.0</td>\n",
              "      <td>2.5898</td>\n",
              "      <td>176000.0</td>\n",
              "      <td>NEAR BAY</td>\n",
              "      <td>3.0</td>\n",
              "      <td>0</td>\n",
              "      <td>0</td>\n",
              "      <td>1</td>\n",
              "      <td>0</td>\n",
              "    </tr>\n",
              "    <tr>\n",
              "      <th>49</th>\n",
              "      <td>-122.27</td>\n",
              "      <td>37.82</td>\n",
              "      <td>40.0</td>\n",
              "      <td>946.0</td>\n",
              "      <td>375.0</td>\n",
              "      <td>700.0</td>\n",
              "      <td>352.0</td>\n",
              "      <td>1.7750</td>\n",
              "      <td>112500.0</td>\n",
              "      <td>NEAR BAY</td>\n",
              "      <td>3.0</td>\n",
              "      <td>0</td>\n",
              "      <td>0</td>\n",
              "      <td>1</td>\n",
              "      <td>0</td>\n",
              "    </tr>\n",
              "  </tbody>\n",
              "</table>\n",
              "</div>"
            ],
            "text/plain": [
              "    longitude  latitude  housing_median_age  total_rooms  total_bedrooms  \\\n",
              "39    -122.26     37.83                52.0       2432.0           715.0   \n",
              "49    -122.27     37.82                40.0        946.0           375.0   \n",
              "\n",
              "    population  households  median_income  median_house_value ocean_proximity  \\\n",
              "39      1377.0       696.0         2.5898            176000.0        NEAR BAY   \n",
              "49       700.0       352.0         1.7750            112500.0        NEAR BAY   \n",
              "\n",
              "    rooms_per_household  rooms_per_household_1  rooms_per_household_2  \\\n",
              "39                  3.0                      0                      0   \n",
              "49                  3.0                      0                      0   \n",
              "\n",
              "    rooms_per_household_3  rooms_per_household_4+  \n",
              "39                      1                       0  \n",
              "49                      1                       0  "
            ]
          },
          "metadata": {
            "tags": []
          }
        },
        {
          "output_type": "display_data",
          "data": {
            "text/html": [
              "<div>\n",
              "<style scoped>\n",
              "    .dataframe tbody tr th:only-of-type {\n",
              "        vertical-align: middle;\n",
              "    }\n",
              "\n",
              "    .dataframe tbody tr th {\n",
              "        vertical-align: top;\n",
              "    }\n",
              "\n",
              "    .dataframe thead th {\n",
              "        text-align: right;\n",
              "    }\n",
              "</style>\n",
              "<table border=\"1\" class=\"dataframe\">\n",
              "  <thead>\n",
              "    <tr style=\"text-align: right;\">\n",
              "      <th></th>\n",
              "      <th>longitude</th>\n",
              "      <th>latitude</th>\n",
              "      <th>housing_median_age</th>\n",
              "      <th>total_rooms</th>\n",
              "      <th>total_bedrooms</th>\n",
              "      <th>population</th>\n",
              "      <th>households</th>\n",
              "      <th>median_income</th>\n",
              "      <th>median_house_value</th>\n",
              "      <th>ocean_proximity</th>\n",
              "      <th>rooms_per_household</th>\n",
              "      <th>rooms_per_household_1</th>\n",
              "      <th>rooms_per_household_2</th>\n",
              "      <th>rooms_per_household_3</th>\n",
              "      <th>rooms_per_household_4+</th>\n",
              "    </tr>\n",
              "  </thead>\n",
              "  <tbody>\n",
              "    <tr>\n",
              "      <th>0</th>\n",
              "      <td>-122.23</td>\n",
              "      <td>37.88</td>\n",
              "      <td>41.0</td>\n",
              "      <td>880.0</td>\n",
              "      <td>129.0</td>\n",
              "      <td>322.0</td>\n",
              "      <td>126.0</td>\n",
              "      <td>8.3252</td>\n",
              "      <td>452600.0</td>\n",
              "      <td>NEAR BAY</td>\n",
              "      <td>7.0</td>\n",
              "      <td>0</td>\n",
              "      <td>0</td>\n",
              "      <td>0</td>\n",
              "      <td>1</td>\n",
              "    </tr>\n",
              "    <tr>\n",
              "      <th>1</th>\n",
              "      <td>-122.22</td>\n",
              "      <td>37.86</td>\n",
              "      <td>21.0</td>\n",
              "      <td>7099.0</td>\n",
              "      <td>1106.0</td>\n",
              "      <td>2401.0</td>\n",
              "      <td>1138.0</td>\n",
              "      <td>8.3014</td>\n",
              "      <td>358500.0</td>\n",
              "      <td>NEAR BAY</td>\n",
              "      <td>6.0</td>\n",
              "      <td>0</td>\n",
              "      <td>0</td>\n",
              "      <td>0</td>\n",
              "      <td>1</td>\n",
              "    </tr>\n",
              "  </tbody>\n",
              "</table>\n",
              "</div>"
            ],
            "text/plain": [
              "   longitude  latitude  housing_median_age  total_rooms  total_bedrooms  \\\n",
              "0    -122.23     37.88                41.0        880.0           129.0   \n",
              "1    -122.22     37.86                21.0       7099.0          1106.0   \n",
              "\n",
              "   population  households  median_income  median_house_value ocean_proximity  \\\n",
              "0       322.0       126.0         8.3252            452600.0        NEAR BAY   \n",
              "1      2401.0      1138.0         8.3014            358500.0        NEAR BAY   \n",
              "\n",
              "   rooms_per_household  rooms_per_household_1  rooms_per_household_2  \\\n",
              "0                  7.0                      0                      0   \n",
              "1                  6.0                      0                      0   \n",
              "\n",
              "   rooms_per_household_3  rooms_per_household_4+  \n",
              "0                      0                       1  \n",
              "1                      0                       1  "
            ]
          },
          "metadata": {
            "tags": []
          }
        }
      ]
    },
    {
      "cell_type": "code",
      "metadata": {
        "id": "qM_iiNrMPrRg",
        "colab_type": "code",
        "colab": {}
      },
      "source": [
        "pass"
      ],
      "execution_count": 0,
      "outputs": []
    }
  ]
}