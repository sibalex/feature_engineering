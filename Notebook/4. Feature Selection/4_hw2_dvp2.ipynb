{
  "nbformat": 4,
  "nbformat_minor": 0,
  "metadata": {
    "kernelspec": {
      "display_name": "Python 3",
      "language": "python",
      "name": "python3"
    },
    "language_info": {
      "codemirror_mode": {
        "name": "ipython",
        "version": 3
      },
      "file_extension": ".py",
      "mimetype": "text/x-python",
      "name": "python",
      "nbconvert_exporter": "python",
      "pygments_lexer": "ipython3",
      "version": "3.7.3"
    },
    "colab": {
      "name": "4. hw2_dvp.ipynb",
      "provenance": []
    }
  },
  "cells": [
    {
      "cell_type": "code",
      "metadata": {
        "id": "DAZjQJB2OMvl",
        "colab_type": "code",
        "colab": {}
      },
      "source": [
        "import pandas as pd\n",
        "import numpy as np\n",
        "import statsmodels.api as sm\n",
        "import statsmodels.formula.api as smf\n",
        "import math\n",
        "\n",
        "np.random.seed(42)\n",
        "\n",
        "import matplotlib\n",
        "import matplotlib.pyplot as plt\n",
        "from mpl_toolkits.mplot3d import axes3d\n",
        "%matplotlib inline\n",
        "\n",
        "from sklearn.preprocessing import StandardScaler, normalize, MinMaxScaler\n",
        "from sklearn.model_selection import train_test_split\n",
        "from sklearn.linear_model import LinearRegression\n",
        "import sklearn\n",
        "\n",
        "import warnings\n",
        "warnings.simplefilter('ignore')"
      ],
      "execution_count": 0,
      "outputs": []
    },
    {
      "cell_type": "code",
      "metadata": {
        "id": "7KB1bu6GOMvp",
        "colab_type": "code",
        "colab": {},
        "outputId": "9847598d-e14d-4494-9a29-8c1252484754"
      },
      "source": [
        "data = '/Users/aleksandr/Desktop/4_лекция_Feature_Selection/Practice_3_media_cut/Advertising.csv'\n",
        "\n",
        "df = pd.read_csv(data)\n",
        "df = df.drop('Unnamed: 0', axis = 1)\n",
        "df['log_tv'] = df.TV.apply(lambda x: math.log(x, 2))\n",
        "\n",
        "display(df.sample(5))\n",
        "display(df.info())"
      ],
      "execution_count": 0,
      "outputs": [
        {
          "output_type": "display_data",
          "data": {
            "text/html": [
              "<div>\n",
              "<style scoped>\n",
              "    .dataframe tbody tr th:only-of-type {\n",
              "        vertical-align: middle;\n",
              "    }\n",
              "\n",
              "    .dataframe tbody tr th {\n",
              "        vertical-align: top;\n",
              "    }\n",
              "\n",
              "    .dataframe thead th {\n",
              "        text-align: right;\n",
              "    }\n",
              "</style>\n",
              "<table border=\"1\" class=\"dataframe\">\n",
              "  <thead>\n",
              "    <tr style=\"text-align: right;\">\n",
              "      <th></th>\n",
              "      <th>TV</th>\n",
              "      <th>radio</th>\n",
              "      <th>newspaper</th>\n",
              "      <th>sales</th>\n",
              "      <th>log_tv</th>\n",
              "    </tr>\n",
              "  </thead>\n",
              "  <tbody>\n",
              "    <tr>\n",
              "      <th>160</th>\n",
              "      <td>172.5</td>\n",
              "      <td>18.1</td>\n",
              "      <td>30.7</td>\n",
              "      <td>14.4</td>\n",
              "      <td>7.430453</td>\n",
              "    </tr>\n",
              "    <tr>\n",
              "      <th>14</th>\n",
              "      <td>204.1</td>\n",
              "      <td>32.9</td>\n",
              "      <td>46.0</td>\n",
              "      <td>19.0</td>\n",
              "      <td>7.673132</td>\n",
              "    </tr>\n",
              "    <tr>\n",
              "      <th>109</th>\n",
              "      <td>255.4</td>\n",
              "      <td>26.9</td>\n",
              "      <td>5.5</td>\n",
              "      <td>19.8</td>\n",
              "      <td>7.996615</td>\n",
              "    </tr>\n",
              "    <tr>\n",
              "      <th>19</th>\n",
              "      <td>147.3</td>\n",
              "      <td>23.9</td>\n",
              "      <td>19.1</td>\n",
              "      <td>14.6</td>\n",
              "      <td>7.202614</td>\n",
              "    </tr>\n",
              "    <tr>\n",
              "      <th>122</th>\n",
              "      <td>224.0</td>\n",
              "      <td>2.4</td>\n",
              "      <td>15.6</td>\n",
              "      <td>11.6</td>\n",
              "      <td>7.807355</td>\n",
              "    </tr>\n",
              "  </tbody>\n",
              "</table>\n",
              "</div>"
            ],
            "text/plain": [
              "        TV  radio  newspaper  sales    log_tv\n",
              "160  172.5   18.1       30.7   14.4  7.430453\n",
              "14   204.1   32.9       46.0   19.0  7.673132\n",
              "109  255.4   26.9        5.5   19.8  7.996615\n",
              "19   147.3   23.9       19.1   14.6  7.202614\n",
              "122  224.0    2.4       15.6   11.6  7.807355"
            ]
          },
          "metadata": {
            "tags": []
          }
        },
        {
          "output_type": "stream",
          "text": [
            "<class 'pandas.core.frame.DataFrame'>\n",
            "RangeIndex: 200 entries, 0 to 199\n",
            "Data columns (total 5 columns):\n",
            "TV           200 non-null float64\n",
            "radio        200 non-null float64\n",
            "newspaper    200 non-null float64\n",
            "sales        200 non-null float64\n",
            "log_tv       200 non-null float64\n",
            "dtypes: float64(5)\n",
            "memory usage: 7.9 KB\n"
          ],
          "name": "stdout"
        },
        {
          "output_type": "display_data",
          "data": {
            "text/plain": [
              "None"
            ]
          },
          "metadata": {
            "tags": []
          }
        }
      ]
    },
    {
      "cell_type": "markdown",
      "metadata": {
        "id": "szACaIqnOMvs",
        "colab_type": "text"
      },
      "source": [
        "### 1. Разделить дата сет на трейн и тест в отношение \n",
        "- 50:50 + random\n",
        "- 70:30 + random\n",
        "- 80:20 + random"
      ]
    },
    {
      "cell_type": "code",
      "metadata": {
        "id": "CDHG8JSuOMvt",
        "colab_type": "code",
        "colab": {}
      },
      "source": [
        "X = df[['TV', 'radio', 'newspaper', 'log_tv']]\n",
        "y = df['sales']"
      ],
      "execution_count": 0,
      "outputs": []
    },
    {
      "cell_type": "markdown",
      "metadata": {
        "id": "uars_DBqOMvv",
        "colab_type": "text"
      },
      "source": [
        "#### To divide df 50/50 + random"
      ]
    },
    {
      "cell_type": "code",
      "metadata": {
        "id": "qJEMx9_GOMvx",
        "colab_type": "code",
        "colab": {},
        "outputId": "3c696b2d-b253-422d-fda0-1d5ea25737aa"
      },
      "source": [
        "X_train1, X_test1, y_train1, y_test1 = train_test_split(X, y, test_size=0.5, shuffle=True, random_state=42)\n",
        "\n",
        "print(len(X_train1))\n",
        "print(len(X_test1))"
      ],
      "execution_count": 0,
      "outputs": [
        {
          "output_type": "stream",
          "text": [
            "100\n",
            "100\n"
          ],
          "name": "stdout"
        }
      ]
    },
    {
      "cell_type": "markdown",
      "metadata": {
        "id": "y1jF-dTYOMv1",
        "colab_type": "text"
      },
      "source": [
        "#### To divide df 70/30 + random"
      ]
    },
    {
      "cell_type": "code",
      "metadata": {
        "id": "CQDoMX7sOMv3",
        "colab_type": "code",
        "colab": {},
        "outputId": "cd3ba30c-e3cf-4505-c118-012399555857"
      },
      "source": [
        "X_train1, X_test1, y_train1, y_test1 = train_test_split(X, y, test_size=0.3, shuffle=True, random_state=42)\n",
        "\n",
        "print(len(X_train1))\n",
        "print(len(X_test1))"
      ],
      "execution_count": 0,
      "outputs": [
        {
          "output_type": "stream",
          "text": [
            "140\n",
            "60\n"
          ],
          "name": "stdout"
        }
      ]
    },
    {
      "cell_type": "markdown",
      "metadata": {
        "id": "PUY7Byj2OMv5",
        "colab_type": "text"
      },
      "source": [
        "#### To divide df 80/20 + random"
      ]
    },
    {
      "cell_type": "code",
      "metadata": {
        "id": "aSiN_MvqOMv5",
        "colab_type": "code",
        "colab": {},
        "outputId": "eb7ec744-a53a-4437-be2c-6ef695f54e72"
      },
      "source": [
        "X_train1, X_test1, y_train1, y_test1 = train_test_split(X, y, test_size=0.2, shuffle=True, random_state=42)\n",
        "\n",
        "print(len(X_train1))\n",
        "print(len(X_test1))"
      ],
      "execution_count": 0,
      "outputs": [
        {
          "output_type": "stream",
          "text": [
            "160\n",
            "40\n"
          ],
          "name": "stdout"
        }
      ]
    },
    {
      "cell_type": "markdown",
      "metadata": {
        "id": "UqZR3AohOMv7",
        "colab_type": "text"
      },
      "source": [
        "### 2, 3. Обучать наши модели на трейне. Предсказывать и замерять метрику R^2 и на трейне и на тесте. Проверить следующие модели, для каждого разделения: \n",
        "- sales ~ log_tv + radio \n",
        "- sales ~ TV + radio \n",
        "- sales ~ TV + radio + newspaper"
      ]
    },
    {
      "cell_type": "markdown",
      "metadata": {
        "id": "_CTCIrKJOMv8",
        "colab_type": "text"
      },
      "source": [
        "#### 50/50 + random / RSS, RSE, R^2 / sales ~ log_tv + radio"
      ]
    },
    {
      "cell_type": "code",
      "metadata": {
        "id": "dLWSmkmdOMv9",
        "colab_type": "code",
        "colab": {},
        "outputId": "c36ffae5-60ad-46f0-a6ea-9ea0294a4530"
      },
      "source": [
        "X_train, y_test = train_test_split(df, test_size=0.5, random_state=42, shuffle=True)\n",
        "three_x_lm = smf.ols('sales ~ log_tv + radio', X_train).fit()\n",
        "rss = np.sum(three_x_lm.resid ** 2)\n",
        "\n",
        "print(\"RSS:\", rss)\n",
        "print(\"RSE:\", np.sqrt(rss / (X_train.shape[0] - 2 - 1)))\n",
        "print(\"R^2:\", three_x_lm.rsquared, '\\n')\n",
        "\n",
        "X, y = three_x_lm.predict(y_test[['log_tv', 'radio']]), y_test['sales']\n",
        "TSS_test = np.sum((y - y.mean())**2)\n",
        "RSS_test = np.sum((y - X)**2)\n",
        "RSE_test = np.sqrt(RSS_test / (y_test.shape[0] - 2 - 1))\n",
        "R_2_test = sklearn.metrics.r2_score(y, X)\n",
        "\n",
        "print(\"RSS test:\", RSS_test)\n",
        "print(\"RSE test:\", RSE_test)\n",
        "print(\"R^2 test:\", R_2_test)"
      ],
      "execution_count": 0,
      "outputs": [
        {
          "output_type": "stream",
          "text": [
            "RSS: 276.10766914243914\n",
            "RSE: 1.6871487237055998\n",
            "R^2: 0.8997594187070235 \n",
            "\n",
            "RSS test: 256.86921012930213\n",
            "RSE test: 1.6273094932741043\n",
            "R^2 test: 0.9017771480682204\n"
          ],
          "name": "stdout"
        }
      ]
    },
    {
      "cell_type": "code",
      "metadata": {
        "id": "hDbZB8MGOMv_",
        "colab_type": "code",
        "colab": {},
        "outputId": "1326f4a5-adef-4409-93fc-1616880c13a7"
      },
      "source": [
        "X = df[['log_tv', 'radio']]\n",
        "y = df['sales']\n",
        "\n",
        "X_train1, X_test1, y_train1, y_test1 = train_test_split(X, y, test_size=0.5, shuffle=True, random_state=42)\n",
        "\n",
        "lm = LinearRegression()\n",
        "model = lm.fit(X_train1, y_train1)\n",
        "\n",
        "print('Score train:', model.score(X_train1, y_train1))\n",
        "print('Score test:', model.score(X_test1, y_test1))"
      ],
      "execution_count": 0,
      "outputs": [
        {
          "output_type": "stream",
          "text": [
            "Score train: 0.8997594187070235\n",
            "Score test: 0.9017771480682202\n"
          ],
          "name": "stdout"
        }
      ]
    },
    {
      "cell_type": "markdown",
      "metadata": {
        "id": "WSvLaZkNOMwB",
        "colab_type": "text"
      },
      "source": [
        "#### 50/50 + random / RSS, RSE, R^2 / sales ~ TV + radio"
      ]
    },
    {
      "cell_type": "code",
      "metadata": {
        "id": "pFRhtlhKOMwC",
        "colab_type": "code",
        "colab": {},
        "outputId": "4950a2dc-36aa-4577-b530-2179f58a8731"
      },
      "source": [
        "X_train, y_test = train_test_split(df, test_size=0.5, random_state=42, shuffle=True)\n",
        "three_x_lm = smf.ols('sales ~ TV + radio', X_train).fit()\n",
        "rss = np.sum(three_x_lm.resid ** 2)\n",
        "\n",
        "print(\"RSS:\", rss)\n",
        "print(\"RSE:\", np.sqrt(rss / (X_train.shape[0] - 2 - 1)))\n",
        "print(\"R^2:\", three_x_lm.rsquared, '\\n')\n",
        "\n",
        "X, y = three_x_lm.predict(y_test[['TV', 'radio']]), y_test['sales']\n",
        "TSS_test = np.sum((y - y.mean())**2)\n",
        "RSS_test = np.sum((y - X)**2)\n",
        "RSE_test = np.sqrt(RSS_test / (y_test.shape[0] - 2 - 1))\n",
        "R_2_test = sklearn.metrics.r2_score(y, X)\n",
        "\n",
        "print(\"RSS test:\", RSS_test)\n",
        "print(\"RSE test:\", RSE_test)\n",
        "print(\"R^2 test:\", R_2_test)"
      ],
      "execution_count": 0,
      "outputs": [
        {
          "output_type": "stream",
          "text": [
            "RSS: 269.79672077541716\n",
            "RSE: 1.667755825212454\n",
            "R^2: 0.9020506014720118 \n",
            "\n",
            "RSS test: 306.90663871598946\n",
            "RSE test: 1.7787596707099644\n",
            "R^2 test: 0.8826436017134698\n"
          ],
          "name": "stdout"
        }
      ]
    },
    {
      "cell_type": "code",
      "metadata": {
        "id": "WMIWhbEFOMwE",
        "colab_type": "code",
        "colab": {},
        "outputId": "6e2f3471-7f4a-4f73-863c-e2999e96ca85"
      },
      "source": [
        "X = df[['TV', 'radio']]\n",
        "y = df['sales']\n",
        "\n",
        "X_train1, X_test1, y_train1, y_test1 = train_test_split(X, y, test_size=0.5, shuffle=True, random_state=42)\n",
        "\n",
        "lm = LinearRegression()\n",
        "model = lm.fit(X_train1, y_train1)\n",
        "\n",
        "print('Score train:', model.score(X_train1, y_train1))\n",
        "print('Score test:', model.score(X_test1, y_test1))"
      ],
      "execution_count": 0,
      "outputs": [
        {
          "output_type": "stream",
          "text": [
            "Score train: 0.9020506014720118\n",
            "Score test: 0.8826436017134701\n"
          ],
          "name": "stdout"
        }
      ]
    },
    {
      "cell_type": "markdown",
      "metadata": {
        "id": "nWWLeW6QOMwG",
        "colab_type": "text"
      },
      "source": [
        "#### 50/50 + random / RSS, RSE, R^2 / sales ~ TV + radio + newspaper"
      ]
    },
    {
      "cell_type": "code",
      "metadata": {
        "id": "j13dFJJUOMwH",
        "colab_type": "code",
        "colab": {},
        "outputId": "06bd2eff-6b94-4086-f752-6b208b320da3"
      },
      "source": [
        "X_train, y_test = train_test_split(df, test_size=0.5, random_state=42, shuffle=True)\n",
        "three_x_lm = smf.ols('sales ~ TV + radio + newspaper', X_train).fit()\n",
        "rss = np.sum(three_x_lm.resid ** 2)\n",
        "\n",
        "print(\"RSS:\", rss)\n",
        "print(\"RSE:\", np.sqrt(rss / (X_train.shape[0] - 3 - 1)))\n",
        "print(\"R^2:\", three_x_lm.rsquared, '\\n')\n",
        "\n",
        "X, y = three_x_lm.predict(y_test[['TV', 'radio', 'newspaper']]), y_test['sales']\n",
        "TSS_test = np.sum((y - y.mean())**2)\n",
        "RSS_test = np.sum((y - X)**2)\n",
        "RSE_test = np.sqrt(RSS_test / (y_test.shape[0] - 3 - 1))\n",
        "R_2_test = sklearn.metrics.r2_score(y, X)\n",
        "\n",
        "print(\"RSS test:\", RSS_test)\n",
        "print(\"RSE test:\", RSE_test)\n",
        "print(\"R^2 test:\", R_2_test)"
      ],
      "execution_count": 0,
      "outputs": [
        {
          "output_type": "stream",
          "text": [
            "RSS: 263.7072834762901\n",
            "RSE: 1.657392792775656\n",
            "R^2: 0.9042613648908893 \n",
            "\n",
            "RSS test: 334.47866377352887\n",
            "RSE test: 1.866588531959019\n",
            "R^2 test: 0.8721004816045134\n"
          ],
          "name": "stdout"
        }
      ]
    },
    {
      "cell_type": "code",
      "metadata": {
        "id": "q3HLSy7pOMwJ",
        "colab_type": "code",
        "colab": {},
        "outputId": "c4f9350e-4690-4383-f69e-95030fc5c56d"
      },
      "source": [
        "X = df[['TV', 'radio', 'newspaper']]\n",
        "y = df['sales']\n",
        "\n",
        "X_train1, X_test1, y_train1, y_test1 = train_test_split(X, y, test_size=0.5, shuffle=True, random_state=42)\n",
        "\n",
        "lm = LinearRegression()\n",
        "model = lm.fit(X_train1, y_train1)\n",
        "\n",
        "print('Score train:', model.score(X_train1, y_train1))\n",
        "print('Score test:', model.score(X_test1, y_test1))"
      ],
      "execution_count": 0,
      "outputs": [
        {
          "output_type": "stream",
          "text": [
            "Score train: 0.9042613648908894\n",
            "Score test: 0.8721004816045136\n"
          ],
          "name": "stdout"
        }
      ]
    },
    {
      "cell_type": "markdown",
      "metadata": {
        "id": "7tx9FE1GOMwL",
        "colab_type": "text"
      },
      "source": [
        "#### 70/30 + random / RSS, RSE, R^2 / sales ~ log_tv + radio"
      ]
    },
    {
      "cell_type": "code",
      "metadata": {
        "id": "1odoB1K_OMwL",
        "colab_type": "code",
        "colab": {},
        "outputId": "a4f2ca69-3814-4534-a595-b7d8a5dde841"
      },
      "source": [
        "X_train, y_test = train_test_split(df, test_size=0.3, random_state=42, shuffle=True)\n",
        "three_x_lm = smf.ols('sales ~ log_tv + radio', X_train).fit()\n",
        "rss = np.sum(three_x_lm.resid ** 2)\n",
        "\n",
        "print(\"RSS:\", rss)\n",
        "print(\"RSE:\", np.sqrt(rss / (X_train.shape[0] - 2 - 1)))\n",
        "print(\"R^2:\", three_x_lm.rsquared, '\\n')\n",
        "\n",
        "X, y = three_x_lm.predict(y_test[['log_tv', 'radio']]), y_test['sales']\n",
        "TSS_test = np.sum((y - y.mean())**2)\n",
        "RSS_test = np.sum((y - X)**2)\n",
        "RSE_test = np.sqrt(RSS_test / (y_test.shape[0] - 2 - 1))\n",
        "R_2_test = sklearn.metrics.r2_score(y, X)\n",
        "\n",
        "print(\"RSS test:\", RSS_test)\n",
        "print(\"RSE test:\", RSE_test)\n",
        "print(\"R^2 test:\", R_2_test)"
      ],
      "execution_count": 0,
      "outputs": [
        {
          "output_type": "stream",
          "text": [
            "RSS: 369.7682294975135\n",
            "RSE: 1.642874971358045\n",
            "R^2: 0.8993482542237392 \n",
            "\n",
            "RSS test: 140.24128994898444\n",
            "RSE test: 1.5685577795787187\n",
            "R^2 test: 0.9143970569382003\n"
          ],
          "name": "stdout"
        }
      ]
    },
    {
      "cell_type": "code",
      "metadata": {
        "id": "rk8U094DOMwN",
        "colab_type": "code",
        "colab": {},
        "outputId": "e9307f59-0b3b-4c89-decf-da4871b77e5f"
      },
      "source": [
        "X = df[['log_tv', 'radio']]\n",
        "y = df['sales']\n",
        "\n",
        "X_train2, X_test2, y_train2, y_test2 = train_test_split(X, y, test_size=0.3, shuffle=True, random_state=42)\n",
        "\n",
        "lm = LinearRegression()\n",
        "model = lm.fit(X_train2, y_train2)\n",
        "\n",
        "print('Score train:', model.score(X_train2, y_train2))\n",
        "print('Score test:', model.score(X_test2, y_test2))"
      ],
      "execution_count": 0,
      "outputs": [
        {
          "output_type": "stream",
          "text": [
            "Score train: 0.8993482542237392\n",
            "Score test: 0.9143970569382007\n"
          ],
          "name": "stdout"
        }
      ]
    },
    {
      "cell_type": "markdown",
      "metadata": {
        "id": "XE593nJ2OMwP",
        "colab_type": "text"
      },
      "source": [
        "#### 70/30 + random / RSS, RSE, R^2 / sales ~ TV + radio"
      ]
    },
    {
      "cell_type": "code",
      "metadata": {
        "id": "2RS2rPwvOMwP",
        "colab_type": "code",
        "colab": {},
        "outputId": "f381c035-0265-40d7-b603-fc27c5fca3e6"
      },
      "source": [
        "X_train, y_test = train_test_split(df, test_size=0.3, random_state=42, shuffle=True)\n",
        "three_x_lm = smf.ols('sales ~ TV + radio', X_train).fit()\n",
        "rss = np.sum(three_x_lm.resid ** 2)\n",
        "\n",
        "print(\"RSS:\", rss)\n",
        "print(\"RSE:\", np.sqrt(rss / (X_train.shape[0] - 2 - 1)))\n",
        "print(\"R^2:\", three_x_lm.rsquared, '\\n')\n",
        "\n",
        "X, y = three_x_lm.predict(y_test[['TV', 'radio']]), y_test['sales']\n",
        "TSS_test = np.sum((y - y.mean())**2)\n",
        "RSS_test = np.sum((y - X)**2)\n",
        "RSE_test = np.sqrt(RSS_test / (y_test.shape[0] - 2 - 1))\n",
        "R_2_test = sklearn.metrics.r2_score(y, X)\n",
        "\n",
        "print(\"RSS test:\", RSS_test)\n",
        "print(\"RSE test:\", RSE_test)\n",
        "print(\"R^2 test:\", R_2_test)"
      ],
      "execution_count": 0,
      "outputs": [
        {
          "output_type": "stream",
          "text": [
            "RSS: 349.6011203718844\n",
            "RSE: 1.5974457722925104\n",
            "R^2: 0.9048377867980044 \n",
            "\n",
            "RSS test: 220.1428232718409\n",
            "RSE test: 1.9652365746247507\n",
            "R^2 test: 0.8656253548947074\n"
          ],
          "name": "stdout"
        }
      ]
    },
    {
      "cell_type": "code",
      "metadata": {
        "id": "OSvUpYUoOMwR",
        "colab_type": "code",
        "colab": {},
        "outputId": "3a0b6266-3aa8-475c-a7c1-695b8a5baa02"
      },
      "source": [
        "X = df[['TV', 'radio']]\n",
        "y = df['sales']\n",
        "\n",
        "X_train2, X_test2, y_train2, y_test2 = train_test_split(X, y, test_size=0.3, shuffle=True, random_state=42)\n",
        "\n",
        "lm = LinearRegression()\n",
        "model = lm.fit(X_train2, y_train2)\n",
        "\n",
        "print('Score train:', model.score(X_train2, y_train2))\n",
        "print('Score test:', model.score(X_test2, y_test2))"
      ],
      "execution_count": 0,
      "outputs": [
        {
          "output_type": "stream",
          "text": [
            "Score train: 0.9048377867980043\n",
            "Score test: 0.8656253548947075\n"
          ],
          "name": "stdout"
        }
      ]
    },
    {
      "cell_type": "markdown",
      "metadata": {
        "id": "6mYpgXjrOMwT",
        "colab_type": "text"
      },
      "source": [
        "#### 70/30 + random / RSS, RSE, R^2 / sales ~ TV + radio + newspaper"
      ]
    },
    {
      "cell_type": "code",
      "metadata": {
        "id": "7yHR-TH2OMwU",
        "colab_type": "code",
        "colab": {},
        "outputId": "b8691a53-ca32-42ca-a0d0-59167cc02318"
      },
      "source": [
        "X_train, y_test = train_test_split(df, test_size=0.3, random_state=42, shuffle=True)\n",
        "three_x_lm = smf.ols('sales ~ TV + radio + newspaper', X_train).fit()\n",
        "rss = np.sum(three_x_lm.resid ** 2)\n",
        "\n",
        "print(\"RSS:\", rss)\n",
        "print(\"RSE:\", np.sqrt(rss / (X_train.shape[0] - 3 - 1)))\n",
        "print(\"R^2:\", three_x_lm.rsquared, '\\n')\n",
        "\n",
        "X, y = three_x_lm.predict(y_test[['TV', 'radio', 'newspaper']]), y_test['sales']\n",
        "TSS_test = np.sum((y - y.mean())**2)\n",
        "RSS_test = np.sum((y - X)**2)\n",
        "RSE_test = np.sqrt(RSS_test / (y_test.shape[0] - 3 - 1))\n",
        "R_2_test = sklearn.metrics.r2_score(y, X)\n",
        "\n",
        "print(\"RSS test:\", RSS_test)\n",
        "print(\"RSE test:\", RSE_test)\n",
        "print(\"R^2 test:\", R_2_test)"
      ],
      "execution_count": 0,
      "outputs": [
        {
          "output_type": "stream",
          "text": [
            "RSS: 347.1097250468101\n",
            "RSE: 1.5975848616114496\n",
            "R^2: 0.9055159502227753 \n",
            "\n",
            "RSS test: 227.807834202913\n",
            "RSE test: 2.0169276237232046\n",
            "R^2 test: 0.8609466508230369\n"
          ],
          "name": "stdout"
        }
      ]
    },
    {
      "cell_type": "code",
      "metadata": {
        "id": "JwhsXF1MOMwb",
        "colab_type": "code",
        "colab": {},
        "outputId": "3a8977ca-9a63-400d-cd62-2646f55bda28"
      },
      "source": [
        "X = df[['TV', 'radio', 'newspaper']]\n",
        "y = df['sales']\n",
        "\n",
        "X_train2, X_test2, y_train2, y_test2 = train_test_split(X, y, test_size=0.3, shuffle=True, random_state=42)\n",
        "\n",
        "lm = LinearRegression()\n",
        "model = lm.fit(X_train2, y_train2)\n",
        "\n",
        "print('Score train:', model.score(X_train2, y_train2))\n",
        "print('Score test:', model.score(X_test2, y_test2))"
      ],
      "execution_count": 0,
      "outputs": [
        {
          "output_type": "stream",
          "text": [
            "Score train: 0.9055159502227753\n",
            "Score test: 0.8609466508230368\n"
          ],
          "name": "stdout"
        }
      ]
    },
    {
      "cell_type": "markdown",
      "metadata": {
        "id": "jw9VT5ijOMwe",
        "colab_type": "text"
      },
      "source": [
        "#### 80/20 + random / RSS, RSE, R^2 / sales ~ log_tv + radio"
      ]
    },
    {
      "cell_type": "code",
      "metadata": {
        "id": "RIIst0mkOMwf",
        "colab_type": "code",
        "colab": {},
        "outputId": "705e7802-18b2-436a-9fb7-e4ac35736f73"
      },
      "source": [
        "X_train, y_test = train_test_split(df, test_size=0.2, random_state=42, shuffle=True)\n",
        "three_x_lm = smf.ols('sales ~ log_tv + radio', X_train).fit()\n",
        "rss = np.sum(three_x_lm.resid ** 2)\n",
        "\n",
        "print(\"RSS:\", rss)\n",
        "print(\"RSE:\", np.sqrt(rss / (X_train.shape[0] - 2 - 1)))\n",
        "print(\"R^2:\", three_x_lm.rsquared, '\\n')\n",
        "\n",
        "X, y = three_x_lm.predict(y_test[['log_tv', 'radio']]), y_test['sales']\n",
        "TSS_test = np.sum((y - y.mean())**2)\n",
        "RSS_test = np.sum((y - X)**2)\n",
        "RSE_test = np.sqrt(RSS_test / (y_test.shape[0] - 2 - 1))\n",
        "R_2_test = sklearn.metrics.r2_score(y, X)\n",
        "\n",
        "print(\"RSS test:\", RSS_test)\n",
        "print(\"RSE test:\", RSE_test)\n",
        "print(\"R^2 test:\", R_2_test)"
      ],
      "execution_count": 0,
      "outputs": [
        {
          "output_type": "stream",
          "text": [
            "RSS: 410.39396728953295\n",
            "RSE: 1.6167789935380994\n",
            "R^2: 0.9011051213818659 \n",
            "\n",
            "RSS test: 96.50156040268362\n",
            "RSE test: 1.6149768670645444\n",
            "R^2 test: 0.9235657691840907\n"
          ],
          "name": "stdout"
        }
      ]
    },
    {
      "cell_type": "code",
      "metadata": {
        "id": "xZTQPp_UOMwh",
        "colab_type": "code",
        "colab": {},
        "outputId": "c6fb133b-033f-45d6-e8ba-459063c80d06"
      },
      "source": [
        "X = df[['log_tv', 'radio']]\n",
        "y = df['sales']\n",
        "\n",
        "X_train3, X_test3, y_train3, y_test3 = train_test_split(X, y, test_size=0.2, shuffle=True, random_state=42)\n",
        "\n",
        "lm = LinearRegression()\n",
        "model = lm.fit(X_train3, y_train3)\n",
        "\n",
        "print('Score train:', model.score(X_train3, y_train3))\n",
        "print('Score test:', model.score(X_test3, y_test3))"
      ],
      "execution_count": 0,
      "outputs": [
        {
          "output_type": "stream",
          "text": [
            "Score train: 0.9011051213818659\n",
            "Score test: 0.9235657691840907\n"
          ],
          "name": "stdout"
        }
      ]
    },
    {
      "cell_type": "markdown",
      "metadata": {
        "id": "6yv8sMu_OMwi",
        "colab_type": "text"
      },
      "source": [
        "#### 80/20 + random / RSS, RSE, R^2 / sales ~ TV + radio"
      ]
    },
    {
      "cell_type": "code",
      "metadata": {
        "id": "bpEOn2HFOMwj",
        "colab_type": "code",
        "colab": {},
        "outputId": "c5ff8353-dd7b-4cf5-bdf3-0e04f06fd1ca"
      },
      "source": [
        "X_train, y_test = train_test_split(df, test_size=0.2, random_state=42, shuffle=True)\n",
        "three_x_lm = smf.ols('sales ~ TV + radio', X_train).fit()\n",
        "rss = np.sum(three_x_lm.resid ** 2)\n",
        "\n",
        "print(\"RSS:\", rss)\n",
        "print(\"RSE:\", np.sqrt(rss / (X_train.shape[0] - 2 - 1)))\n",
        "print(\"R^2:\", three_x_lm.rsquared, '\\n')\n",
        "\n",
        "X, y = three_x_lm.predict(y_test[['TV', 'radio']]), y_test['sales']\n",
        "TSS_test = np.sum((y - y.mean())**2)\n",
        "RSS_test = np.sum((y - X)**2)\n",
        "RSE_test = np.sqrt(RSS_test / (y_test.shape[0] - 2 - 1))\n",
        "R_2_test = sklearn.metrics.r2_score(y, X)\n",
        "\n",
        "print(\"RSS test:\", RSS_test)\n",
        "print(\"RSE test:\", RSE_test)\n",
        "print(\"R^2 test:\", R_2_test)"
      ],
      "execution_count": 0,
      "outputs": [
        {
          "output_type": "stream",
          "text": [
            "RSS: 433.2465274979225\n",
            "RSE: 1.6611839218701105\n",
            "R^2: 0.8955982149747163 \n",
            "\n",
            "RSS test: 125.51792036273409\n",
            "RSE test: 1.841840445320886\n",
            "R^2 test: 0.9005833101920356\n"
          ],
          "name": "stdout"
        }
      ]
    },
    {
      "cell_type": "code",
      "metadata": {
        "id": "aH2_56CjOMwl",
        "colab_type": "code",
        "colab": {},
        "outputId": "42d1b6c2-a780-4c90-a6e8-5b0da4ece776"
      },
      "source": [
        "X = df[['TV', 'radio']]\n",
        "y = df['sales']\n",
        "\n",
        "X_train3, X_test3, y_train3, y_test3 = train_test_split(X, y, test_size=0.2, shuffle=True, random_state=42)\n",
        "\n",
        "lm = LinearRegression()\n",
        "model = lm.fit(X_train3, y_train3)\n",
        "\n",
        "print('Score train:', model.score(X_train3, y_train3))\n",
        "print('Score test:', model.score(X_test3, y_test3))"
      ],
      "execution_count": 0,
      "outputs": [
        {
          "output_type": "stream",
          "text": [
            "Score train: 0.8955982149747163\n",
            "Score test: 0.9005833101920357\n"
          ],
          "name": "stdout"
        }
      ]
    },
    {
      "cell_type": "markdown",
      "metadata": {
        "id": "4LW7V6M1OMwn",
        "colab_type": "text"
      },
      "source": [
        "#### 80/20 + random / RSS, RSE, R^2 / sales ~ TV + radio + newspaper"
      ]
    },
    {
      "cell_type": "code",
      "metadata": {
        "id": "bcZlYK4EOMwn",
        "colab_type": "code",
        "colab": {},
        "outputId": "4b86c08e-d1be-429d-be54-8700621e59ab"
      },
      "source": [
        "X_train, y_test = train_test_split(df, test_size=0.2, random_state=42, shuffle=True)\n",
        "three_x_lm = smf.ols('sales ~ TV + radio + newspaper', X_train).fit()\n",
        "rss = np.sum(three_x_lm.resid ** 2)\n",
        "\n",
        "print(\"RSS:\", rss)\n",
        "print(\"RSE:\", np.sqrt(rss / (X_train.shape[0] - 3 - 1)))\n",
        "print(\"R^2:\", three_x_lm.rsquared, '\\n')\n",
        "\n",
        "X, y = three_x_lm.predict(y_test[['TV', 'radio', 'newspaper']]), y_test['sales']\n",
        "TSS_test = np.sum((y - y.mean())**2)\n",
        "RSS_test = np.sum((y - X)**2)\n",
        "RSE_test = np.sqrt(RSS_test / (y_test.shape[0] - 3 - 1))\n",
        "R_2_test = sklearn.metrics.r2_score(y, X)\n",
        "\n",
        "print(\"RSS test:\", RSS_test)\n",
        "print(\"RSE test:\", RSE_test)\n",
        "print(\"R^2 test:\", R_2_test)"
      ],
      "execution_count": 0,
      "outputs": [
        {
          "output_type": "stream",
          "text": [
            "RSS: 432.8207076930263\n",
            "RSE: 1.6656805564035795\n",
            "R^2: 0.8957008271017817 \n",
            "\n",
            "RSS test: 126.96389415904429\n",
            "RSE test: 1.8779709363435926\n",
            "R^2 test: 0.8994380241009119\n"
          ],
          "name": "stdout"
        }
      ]
    },
    {
      "cell_type": "code",
      "metadata": {
        "id": "kD1mh423OMwp",
        "colab_type": "code",
        "colab": {},
        "outputId": "d59240d5-01d1-45b0-adc1-3adb2b25b02f"
      },
      "source": [
        "X = df[['TV', 'radio', 'newspaper']]\n",
        "y = df['sales']\n",
        "\n",
        "X_train3, X_test3, y_train3, y_test3 = train_test_split(X, y, test_size=0.2, shuffle=True, random_state=42)\n",
        "\n",
        "lm = LinearRegression()\n",
        "model = lm.fit(X_train3, y_train3)\n",
        "\n",
        "print('Score train:', model.score(X_train3, y_train3))\n",
        "print('Score test:', model.score(X_test3, y_test3))"
      ],
      "execution_count": 0,
      "outputs": [
        {
          "output_type": "stream",
          "text": [
            "Score train: 0.8957008271017818\n",
            "Score test: 0.899438024100912\n"
          ],
          "name": "stdout"
        }
      ]
    },
    {
      "cell_type": "code",
      "metadata": {
        "id": "KtOpvt4WOMwq",
        "colab_type": "code",
        "colab": {}
      },
      "source": [
        "pass"
      ],
      "execution_count": 0,
      "outputs": []
    }
  ]
}